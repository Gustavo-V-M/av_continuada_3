{
 "cells": [
  {
   "cell_type": "markdown",
   "metadata": {},
   "source": [
    "Exercicio 1)"
   ]
  },
  {
   "cell_type": "markdown",
   "metadata": {},
   "source": [
    "21)"
   ]
  },
  {
   "cell_type": "code",
   "execution_count": 1,
   "metadata": {
    "vscode": {
     "languageId": "r"
    }
   },
   "outputs": [
    {
     "name": "stdout",
     "output_type": "stream",
     "text": [
      "Margem de erro:  0.2718581"
     ]
    }
   ],
   "source": [
    "c <- 0.90\n",
    "x_bar <- 12.3\n",
    "sig <- 1.5\n",
    "n <- 50\n",
    "\n",
    "z_alpha <- qnorm(c)\n",
    "\n",
    "E <- z_alpha * sig/sqrt(n)\n",
    "cat(\"Margem de erro: \", E)"
   ]
  },
  {
   "cell_type": "code",
   "execution_count": 2,
   "metadata": {
    "vscode": {
     "languageId": "r"
    }
   },
   "outputs": [
    {
     "name": "stdout",
     "output_type": "stream",
     "text": [
      "12.02814 < mi <  12.57186"
     ]
    }
   ],
   "source": [
    "lim_inferior <- x_bar - E\n",
    "lim_superior <- x_bar + E\n",
    "\n",
    "cat(lim_inferior, \"< mi < \",lim_superior)"
   ]
  },
  {
   "cell_type": "markdown",
   "metadata": {},
   "source": [
    "22."
   ]
  },
  {
   "cell_type": "code",
   "execution_count": 7,
   "metadata": {
    "vscode": {
     "languageId": "r"
    }
   },
   "outputs": [
    {
     "name": "stdout",
     "output_type": "stream",
     "text": [
      "Margem de erro:  0.145315"
     ]
    }
   ],
   "source": [
    "alpha <- 0.95\n",
    "x_bar <- 31.39\n",
    "sig <- 0.8\n",
    "n <- 82\n",
    "\n",
    "z_alpha <- qnorm(alpha)\n",
    "E <- z_alpha * sig/sqrt(n)\n",
    "cat(\"Margem de erro: \", E)"
   ]
  },
  {
   "cell_type": "code",
   "execution_count": 8,
   "metadata": {
    "vscode": {
     "languageId": "r"
    }
   },
   "outputs": [
    {
     "name": "stdout",
     "output_type": "stream",
     "text": [
      "31.24469 < mi < 31.53531"
     ]
    }
   ],
   "source": [
    "lim_inferior <- x_bar - E\n",
    "lim_superior <- x_bar + E\n",
    "\n",
    "cat(lim_inferior, \"< mi <\", lim_superior)"
   ]
  },
  {
   "cell_type": "markdown",
   "metadata": {},
   "source": [
    "23."
   ]
  },
  {
   "cell_type": "code",
   "execution_count": 9,
   "metadata": {
    "vscode": {
     "languageId": "r"
    }
   },
   "outputs": [
    {
     "name": "stdout",
     "output_type": "stream",
     "text": [
      "Margem de erro:  0.7421337"
     ]
    }
   ],
   "source": [
    "alpha <- 0.99\n",
    "x_bar <- 10.5\n",
    "sig <- 2.14\n",
    "n <- 45\n",
    "\n",
    "z_alpha <- qnorm(alpha)\n",
    "E <- z_alpha * sig/sqrt(n)\n",
    "cat(\"Margem de erro: \", E)"
   ]
  },
  {
   "cell_type": "code",
   "execution_count": 10,
   "metadata": {
    "vscode": {
     "languageId": "r"
    }
   },
   "outputs": [
    {
     "name": "stdout",
     "output_type": "stream",
     "text": [
      "9.757866 < mi < 11.24213"
     ]
    }
   ],
   "source": [
    "lim_inferior <- x_bar - E\n",
    "lim_superior <- x_bar + E\n",
    "\n",
    "cat(lim_inferior, \"< mi <\", lim_superior)"
   ]
  },
  {
   "cell_type": "markdown",
   "metadata": {},
   "source": [
    "24."
   ]
  },
  {
   "cell_type": "code",
   "execution_count": 11,
   "metadata": {
    "vscode": {
     "languageId": "r"
    }
   },
   "outputs": [
    {
     "name": "stdout",
     "output_type": "stream",
     "text": [
      "Margem de erro:  0.395562"
     ]
    }
   ],
   "source": [
    "alpha <- 0.80\n",
    "x_bar <- 20.6\n",
    "sig <- 4.7\n",
    "n <- 100\n",
    "\n",
    "z_alpha <- qnorm(alpha)\n",
    "E <- z_alpha * sig/sqrt(n)\n",
    "cat(\"Margem de erro: \", E)"
   ]
  },
  {
   "cell_type": "code",
   "execution_count": 12,
   "metadata": {
    "vscode": {
     "languageId": "r"
    }
   },
   "outputs": [
    {
     "name": "stdout",
     "output_type": "stream",
     "text": [
      "20.20444 < mi < 20.99556"
     ]
    }
   ],
   "source": [
    "lim_inferior <- x_bar - E\n",
    "lim_superior <- x_bar + E\n",
    "\n",
    "cat(lim_inferior, \"< mi <\", lim_superior)"
   ]
  },
  {
   "cell_type": "markdown",
   "metadata": {},
   "source": [
    "Exercicio 2)"
   ]
  },
  {
   "cell_type": "markdown",
   "metadata": {},
   "source": [
    "35."
   ]
  },
  {
   "cell_type": "code",
   "execution_count": 27,
   "metadata": {
    "vscode": {
     "languageId": "r"
    }
   },
   "outputs": [
    {
     "name": "stdout",
     "output_type": "stream",
     "text": [
      "Margem de erro:  0.03884497 , 0.04985698"
     ]
    }
   ],
   "source": [
    "sig <- 0.21\n",
    "x_bar <- 3.63\n",
    "n <- 48\n",
    "alpha <- c(0.90, 0.95)\n",
    "z_alpha <- c()\n",
    "E <- c()\n",
    "for (item in alpha) {\n",
    "    z_alpha <- c(z_alpha, qnorm(item))\n",
    "}\n",
    "for (item in z_alpha){\n",
    "    E <- c(E, item*sig/sqrt(n))\n",
    "}\n",
    "\n",
    "cat(\"Margem de erro: \", E[1],\",\", E[2])"
   ]
  },
  {
   "cell_type": "code",
   "execution_count": 28,
   "metadata": {
    "vscode": {
     "languageId": "r"
    }
   },
   "outputs": [
    {
     "name": "stdout",
     "output_type": "stream",
     "text": [
      "Intervalo de confiança para  0.9 \n",
      "3.591155 < mi <  3.668845 \n",
      "Intervalo de confiança para  0.95 \n",
      "3.580143 < mi <  3.679857 \n"
     ]
    }
   ],
   "source": [
    "for (item in E){\n",
    "    cat(\"Intervalo de confiança para \",alpha[match(item, E)],\"\\n\")\n",
    "    cat(x_bar - item, \"< mi < \", x_bar + item, \"\\n\")\n",
    "}"
   ]
  }
 ],
 "metadata": {
  "kernelspec": {
   "display_name": "R",
   "language": "R",
   "name": "ir"
  },
  "language_info": {
   "codemirror_mode": "r",
   "file_extension": ".r",
   "mimetype": "text/x-r-source",
   "name": "R",
   "pygments_lexer": "r",
   "version": "4.2.2"
  },
  "orig_nbformat": 4
 },
 "nbformat": 4,
 "nbformat_minor": 2
}
