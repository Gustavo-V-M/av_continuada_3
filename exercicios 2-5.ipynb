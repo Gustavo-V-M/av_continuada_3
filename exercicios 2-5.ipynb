{
 "cells": [
  {
   "cell_type": "markdown",
   "metadata": {},
   "source": [
    "Exercicio 1)"
   ]
  },
  {
   "cell_type": "markdown",
   "metadata": {},
   "source": [
    "21)"
   ]
  },
  {
   "cell_type": "code",
   "execution_count": 1,
   "metadata": {
    "vscode": {
     "languageId": "r"
    }
   },
   "outputs": [
    {
     "name": "stdout",
     "output_type": "stream",
     "text": [
      "Margem de erro:  0.2718581"
     ]
    }
   ],
   "source": [
    "c <- 0.90\n",
    "x_bar <- 12.3\n",
    "sig <- 1.5\n",
    "n <- 50\n",
    "\n",
    "z_alpha <- qnorm(c)\n",
    "\n",
    "E <- z_alpha * sig/sqrt(n)\n",
    "cat(\"Margem de erro: \", E)"
   ]
  },
  {
   "cell_type": "code",
   "execution_count": 2,
   "metadata": {
    "vscode": {
     "languageId": "r"
    }
   },
   "outputs": [
    {
     "name": "stdout",
     "output_type": "stream",
     "text": [
      "12.02814 < mi <  12.57186"
     ]
    }
   ],
   "source": [
    "lim_inferior <- x_bar - E\n",
    "lim_superior <- x_bar + E\n",
    "\n",
    "cat(lim_inferior, \"< mi < \",lim_superior)"
   ]
  },
  {
   "cell_type": "markdown",
   "metadata": {},
   "source": [
    "22."
   ]
  },
  {
   "cell_type": "code",
   "execution_count": 7,
   "metadata": {
    "vscode": {
     "languageId": "r"
    }
   },
   "outputs": [
    {
     "name": "stdout",
     "output_type": "stream",
     "text": [
      "Margem de erro:  0.145315"
     ]
    }
   ],
   "source": [
    "alpha <- 0.95\n",
    "x_bar <- 31.39\n",
    "sig <- 0.8\n",
    "n <- 82\n",
    "\n",
    "z_alpha <- qnorm(alpha)\n",
    "E <- z_alpha * sig/sqrt(n)\n",
    "cat(\"Margem de erro: \", E)"
   ]
  },
  {
   "cell_type": "code",
   "execution_count": 8,
   "metadata": {
    "vscode": {
     "languageId": "r"
    }
   },
   "outputs": [
    {
     "name": "stdout",
     "output_type": "stream",
     "text": [
      "31.24469 < mi < 31.53531"
     ]
    }
   ],
   "source": [
    "lim_inferior <- x_bar - E\n",
    "lim_superior <- x_bar + E\n",
    "\n",
    "cat(lim_inferior, \"< mi <\", lim_superior)"
   ]
  },
  {
   "cell_type": "markdown",
   "metadata": {},
   "source": [
    "23."
   ]
  },
  {
   "cell_type": "code",
   "execution_count": 9,
   "metadata": {
    "vscode": {
     "languageId": "r"
    }
   },
   "outputs": [
    {
     "name": "stdout",
     "output_type": "stream",
     "text": [
      "Margem de erro:  0.7421337"
     ]
    }
   ],
   "source": [
    "alpha <- 0.99\n",
    "x_bar <- 10.5\n",
    "sig <- 2.14\n",
    "n <- 45\n",
    "\n",
    "z_alpha <- qnorm(alpha)\n",
    "E <- z_alpha * sig/sqrt(n)\n",
    "cat(\"Margem de erro: \", E)"
   ]
  },
  {
   "cell_type": "code",
   "execution_count": 10,
   "metadata": {
    "vscode": {
     "languageId": "r"
    }
   },
   "outputs": [
    {
     "name": "stdout",
     "output_type": "stream",
     "text": [
      "9.757866 < mi < 11.24213"
     ]
    }
   ],
   "source": [
    "lim_inferior <- x_bar - E\n",
    "lim_superior <- x_bar + E\n",
    "\n",
    "cat(lim_inferior, \"< mi <\", lim_superior)"
   ]
  },
  {
   "cell_type": "markdown",
   "metadata": {},
   "source": [
    "24."
   ]
  },
  {
   "cell_type": "code",
   "execution_count": 11,
   "metadata": {
    "vscode": {
     "languageId": "r"
    }
   },
   "outputs": [
    {
     "name": "stdout",
     "output_type": "stream",
     "text": [
      "Margem de erro:  0.395562"
     ]
    }
   ],
   "source": [
    "alpha <- 0.80\n",
    "x_bar <- 20.6\n",
    "sig <- 4.7\n",
    "n <- 100\n",
    "\n",
    "z_alpha <- qnorm(alpha)\n",
    "E <- z_alpha * sig/sqrt(n)\n",
    "cat(\"Margem de erro: \", E)"
   ]
  },
  {
   "cell_type": "code",
   "execution_count": 12,
   "metadata": {
    "vscode": {
     "languageId": "r"
    }
   },
   "outputs": [
    {
     "name": "stdout",
     "output_type": "stream",
     "text": [
      "20.20444 < mi < 20.99556"
     ]
    }
   ],
   "source": [
    "lim_inferior <- x_bar - E\n",
    "lim_superior <- x_bar + E\n",
    "\n",
    "cat(lim_inferior, \"< mi <\", lim_superior)"
   ]
  },
  {
   "cell_type": "markdown",
   "metadata": {},
   "source": [
    "Exercicio 2)"
   ]
  },
  {
   "cell_type": "markdown",
   "metadata": {},
   "source": [
    "35."
   ]
  },
  {
   "cell_type": "code",
   "execution_count": 27,
   "metadata": {
    "vscode": {
     "languageId": "r"
    }
   },
   "outputs": [
    {
     "name": "stdout",
     "output_type": "stream",
     "text": [
      "Margem de erro:  0.03884497 , 0.04985698"
     ]
    }
   ],
   "source": [
    "sig <- 0.21\n",
    "x_bar <- 3.63\n",
    "n <- 48\n",
    "alpha <- c(0.90, 0.95)\n",
    "z_alpha <- c()\n",
    "E <- c()\n",
    "for (item in alpha) {\n",
    "    z_alpha <- c(z_alpha, qnorm(item))\n",
    "}\n",
    "for (item in z_alpha){\n",
    "    E <- c(E, item*sig/sqrt(n))\n",
    "}\n",
    "\n",
    "cat(\"Margem de erro: \", E[1],\",\", E[2])"
   ]
  },
  {
   "cell_type": "code",
   "execution_count": 28,
   "metadata": {
    "vscode": {
     "languageId": "r"
    }
   },
   "outputs": [
    {
     "name": "stdout",
     "output_type": "stream",
     "text": [
      "Intervalo de confiança para  0.9 \n",
      "3.591155 < mi <  3.668845 \n",
      "Intervalo de confiança para  0.95 \n",
      "3.580143 < mi <  3.679857 \n"
     ]
    }
   ],
   "source": [
    "for (item in E){\n",
    "    cat(\"Intervalo de confiança para \",alpha[match(item, E)],\"\\n\")\n",
    "    cat(x_bar - item, \"< mi < \", x_bar + item, \"\\n\")\n",
    "}"
   ]
  },
  {
   "cell_type": "markdown",
   "metadata": {},
   "source": [
    "37."
   ]
  },
  {
   "cell_type": "code",
   "execution_count": 1,
   "metadata": {
    "vscode": {
     "languageId": "r"
    }
   },
   "outputs": [
    {
     "name": "stdout",
     "output_type": "stream",
     "text": [
      "Margem de erro:  98.86241"
     ]
    }
   ],
   "source": [
    "alpha <- 0.95\n",
    "n <- 50\n",
    "x_bar <- 2650\n",
    "sig <- 425\n",
    "\n",
    "z_alpha <- qnorm(alpha)\n",
    "E <- z_alpha*sig/sqrt(n)\n"
   ]
  },
  {
   "cell_type": "code",
   "execution_count": 2,
   "metadata": {
    "vscode": {
     "languageId": "r"
    }
   },
   "outputs": [
    {
     "name": "stdout",
     "output_type": "stream",
     "text": [
      "2551.138 < mi < 2748.862"
     ]
    }
   ],
   "source": [
    "lim_inferior <- x_bar - E\n",
    "lim_superior <- x_bar + E\n",
    "\n",
    "cat(lim_inferior, \"< mi <\", lim_superior)"
   ]
  },
  {
   "cell_type": "markdown",
   "metadata": {},
   "source": [
    "45."
   ]
  },
  {
   "cell_type": "code",
   "execution_count": 5,
   "metadata": {
    "vscode": {
     "languageId": "r"
    }
   },
   "outputs": [
    {
     "name": "stdout",
     "output_type": "stream",
     "text": [
      "Margem de erro:  1.232224 , 2.236805"
     ]
    }
   ],
   "source": [
    "minutes <- c(24,27,26,29,33,21,18,24,23,34,17,15,19,23,25,29,36,19,18,22)\n",
    "sig <- 4.3\n",
    "n <- length(minutes)\n",
    "alpha <- c(0.90, 0.99)\n",
    "x_bar <- mean(minutes)\n",
    "\n",
    "z_alpha <- c()\n",
    "E <- c()\n",
    "for (item in alpha) {\n",
    "    z_alpha <- c(z_alpha, qnorm(item))\n",
    "}\n",
    "for (item in z_alpha){\n",
    "    E <- c(E, item*sig/sqrt(n))\n",
    "}\n",
    "\n",
    "cat(\"Margem de erro: \", E[1],\",\", E[2])\n"
   ]
  },
  {
   "cell_type": "code",
   "execution_count": 6,
   "metadata": {
    "vscode": {
     "languageId": "r"
    }
   },
   "outputs": [
    {
     "name": "stdout",
     "output_type": "stream",
     "text": [
      "Intervalo de confiança para  0.9 \n",
      "22.86778 < mi <  25.33222 \n",
      "Intervalo de confiança para  0.99 \n",
      "21.8632 < mi <  26.3368 \n"
     ]
    }
   ],
   "source": [
    "for (item in E){\n",
    "    cat(\"Intervalo de confiança para \",alpha[match(item, E)],\"\\n\")\n",
    "    cat(x_bar - item, \"< mi < \", x_bar + item, \"\\n\")\n",
    "}"
   ]
  },
  {
   "cell_type": "markdown",
   "metadata": {},
   "source": [
    "46."
   ]
  },
  {
   "cell_type": "code",
   "execution_count": null,
   "metadata": {
    "vscode": {
     "languageId": "r"
    }
   },
   "outputs": [],
   "source": [
    "prices <- c(18.41, 16.91, 16.83, 17.72, 15.54, 15.56, 18.01, 19.11, 19.79, 18.32, 18.65, 20.71, 20.66, 21.04, 21.74, 22.13, 21.96, 22.16, 22.86, 20.86, 20.74, \n",
    "            22.05, 21.42)"
   ]
  }
 ],
 "metadata": {
  "kernelspec": {
   "display_name": "R",
   "language": "R",
   "name": "ir"
  },
  "language_info": {
   "codemirror_mode": "r",
   "file_extension": ".r",
   "mimetype": "text/x-r-source",
   "name": "R",
   "pygments_lexer": "r",
   "version": "4.2.2"
  },
  "orig_nbformat": 4
 },
 "nbformat": 4,
 "nbformat_minor": 2
}
