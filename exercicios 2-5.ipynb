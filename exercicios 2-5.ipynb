{
 "cells": [
  {
   "cell_type": "markdown",
   "metadata": {},
   "source": [
    "Exercicio 2)"
   ]
  },
  {
   "cell_type": "markdown",
   "metadata": {},
   "source": [
    "21)"
   ]
  },
  {
   "cell_type": "code",
   "execution_count": 1,
   "metadata": {
    "vscode": {
     "languageId": "r"
    }
   },
   "outputs": [
    {
     "name": "stdout",
     "output_type": "stream",
     "text": [
      "Margem de erro:  0.2718581"
     ]
    }
   ],
   "source": [
    "c <- 0.90\n",
    "x_bar <- 12.3\n",
    "sig <- 1.5\n",
    "n <- 50\n",
    "\n",
    "z_alpha <- qnorm(c)\n",
    "\n",
    "E <- z_alpha * sig/sqrt(n)\n",
    "cat(\"Margem de erro: \", E)"
   ]
  },
  {
   "cell_type": "code",
   "execution_count": 2,
   "metadata": {
    "vscode": {
     "languageId": "r"
    }
   },
   "outputs": [
    {
     "name": "stdout",
     "output_type": "stream",
     "text": [
      "12.02814 < mi <  12.57186"
     ]
    }
   ],
   "source": [
    "lim_inferior <- x_bar - E\n",
    "lim_superior <- x_bar + E\n",
    "\n",
    "cat(lim_inferior, \"< mi < \",lim_superior)"
   ]
  },
  {
   "cell_type": "markdown",
   "metadata": {},
   "source": [
    "22."
   ]
  },
  {
   "cell_type": "code",
   "execution_count": 7,
   "metadata": {
    "vscode": {
     "languageId": "r"
    }
   },
   "outputs": [
    {
     "name": "stdout",
     "output_type": "stream",
     "text": [
      "Margem de erro:  0.145315"
     ]
    }
   ],
   "source": [
    "alpha <- 0.95\n",
    "x_bar <- 31.39\n",
    "sig <- 0.8\n",
    "n <- 82\n",
    "\n",
    "z_alpha <- qnorm(alpha)\n",
    "E <- z_alpha * sig/sqrt(n)\n",
    "cat(\"Margem de erro: \", E)"
   ]
  },
  {
   "cell_type": "code",
   "execution_count": 8,
   "metadata": {
    "vscode": {
     "languageId": "r"
    }
   },
   "outputs": [
    {
     "name": "stdout",
     "output_type": "stream",
     "text": [
      "31.24469 < mi < 31.53531"
     ]
    }
   ],
   "source": [
    "lim_inferior <- x_bar - E\n",
    "lim_superior <- x_bar + E\n",
    "\n",
    "cat(lim_inferior, \"< mi <\", lim_superior)"
   ]
  },
  {
   "cell_type": "markdown",
   "metadata": {},
   "source": [
    "23."
   ]
  },
  {
   "cell_type": "code",
   "execution_count": 9,
   "metadata": {
    "vscode": {
     "languageId": "r"
    }
   },
   "outputs": [
    {
     "name": "stdout",
     "output_type": "stream",
     "text": [
      "Margem de erro:  0.7421337"
     ]
    }
   ],
   "source": [
    "alpha <- 0.99\n",
    "x_bar <- 10.5\n",
    "sig <- 2.14\n",
    "n <- 45\n",
    "\n",
    "z_alpha <- qnorm(alpha)\n",
    "E <- z_alpha * sig/sqrt(n)\n",
    "cat(\"Margem de erro: \", E)"
   ]
  },
  {
   "cell_type": "code",
   "execution_count": 10,
   "metadata": {
    "vscode": {
     "languageId": "r"
    }
   },
   "outputs": [
    {
     "name": "stdout",
     "output_type": "stream",
     "text": [
      "9.757866 < mi < 11.24213"
     ]
    }
   ],
   "source": [
    "lim_inferior <- x_bar - E\n",
    "lim_superior <- x_bar + E\n",
    "\n",
    "cat(lim_inferior, \"< mi <\", lim_superior)"
   ]
  },
  {
   "cell_type": "markdown",
   "metadata": {},
   "source": [
    "24."
   ]
  },
  {
   "cell_type": "code",
   "execution_count": 11,
   "metadata": {
    "vscode": {
     "languageId": "r"
    }
   },
   "outputs": [
    {
     "name": "stdout",
     "output_type": "stream",
     "text": [
      "Margem de erro:  0.395562"
     ]
    }
   ],
   "source": [
    "alpha <- 0.80\n",
    "x_bar <- 20.6\n",
    "sig <- 4.7\n",
    "n <- 100\n",
    "\n",
    "z_alpha <- qnorm(alpha)\n",
    "E <- z_alpha * sig/sqrt(n)\n",
    "cat(\"Margem de erro: \", E)"
   ]
  },
  {
   "cell_type": "code",
   "execution_count": 12,
   "metadata": {
    "vscode": {
     "languageId": "r"
    }
   },
   "outputs": [
    {
     "name": "stdout",
     "output_type": "stream",
     "text": [
      "20.20444 < mi < 20.99556"
     ]
    }
   ],
   "source": [
    "lim_inferior <- x_bar - E\n",
    "lim_superior <- x_bar + E\n",
    "\n",
    "cat(lim_inferior, \"< mi <\", lim_superior)"
   ]
  },
  {
   "cell_type": "markdown",
   "metadata": {},
   "source": [
    "Exercicio 3)"
   ]
  },
  {
   "cell_type": "markdown",
   "metadata": {},
   "source": [
    "35."
   ]
  },
  {
   "cell_type": "code",
   "execution_count": 27,
   "metadata": {
    "vscode": {
     "languageId": "r"
    }
   },
   "outputs": [
    {
     "name": "stdout",
     "output_type": "stream",
     "text": [
      "Margem de erro:  0.03884497 , 0.04985698"
     ]
    }
   ],
   "source": [
    "sig <- 0.21\n",
    "x_bar <- 3.63\n",
    "n <- 48\n",
    "alpha <- c(0.90, 0.95)\n",
    "z_alpha <- c()\n",
    "E <- c()\n",
    "for (item in alpha) {\n",
    "    z_alpha <- c(z_alpha, qnorm(item))\n",
    "}\n",
    "for (item in z_alpha){\n",
    "    E <- c(E, item*sig/sqrt(n))\n",
    "}\n",
    "\n",
    "cat(\"Margem de erro: \", E[1],\",\", E[2])"
   ]
  },
  {
   "cell_type": "code",
   "execution_count": 28,
   "metadata": {
    "vscode": {
     "languageId": "r"
    }
   },
   "outputs": [
    {
     "name": "stdout",
     "output_type": "stream",
     "text": [
      "Intervalo de confiança para  0.9 \n",
      "3.591155 < mi <  3.668845 \n",
      "Intervalo de confiança para  0.95 \n",
      "3.580143 < mi <  3.679857 \n"
     ]
    }
   ],
   "source": [
    "for (item in E){\n",
    "    cat(\"Intervalo de confiança para \",alpha[match(item, E)],\"\\n\")\n",
    "    cat(x_bar - item, \"< mi < \", x_bar + item, \"\\n\")\n",
    "}"
   ]
  },
  {
   "cell_type": "markdown",
   "metadata": {},
   "source": [
    "37."
   ]
  },
  {
   "cell_type": "code",
   "execution_count": 1,
   "metadata": {
    "vscode": {
     "languageId": "r"
    }
   },
   "outputs": [
    {
     "name": "stdout",
     "output_type": "stream",
     "text": [
      "Margem de erro:  98.86241"
     ]
    }
   ],
   "source": [
    "alpha <- 0.95\n",
    "n <- 50\n",
    "x_bar <- 2650\n",
    "sig <- 425\n",
    "\n",
    "z_alpha <- qnorm(alpha)\n",
    "E <- z_alpha*sig/sqrt(n)\n"
   ]
  },
  {
   "cell_type": "code",
   "execution_count": 2,
   "metadata": {
    "vscode": {
     "languageId": "r"
    }
   },
   "outputs": [
    {
     "name": "stdout",
     "output_type": "stream",
     "text": [
      "2551.138 < mi < 2748.862"
     ]
    }
   ],
   "source": [
    "lim_inferior <- x_bar - E\n",
    "lim_superior <- x_bar + E\n",
    "\n",
    "cat(lim_inferior, \"< mi <\", lim_superior)"
   ]
  },
  {
   "cell_type": "markdown",
   "metadata": {},
   "source": [
    "45."
   ]
  },
  {
   "cell_type": "code",
   "execution_count": 5,
   "metadata": {
    "vscode": {
     "languageId": "r"
    }
   },
   "outputs": [
    {
     "name": "stdout",
     "output_type": "stream",
     "text": [
      "Margem de erro:  1.232224 , 2.236805"
     ]
    }
   ],
   "source": [
    "minutes <- c(24,27,26,29,33,21,18,24,23,34,17,15,19,23,25,29,36,19,18,22)\n",
    "sig <- 4.3\n",
    "n <- length(minutes)\n",
    "alpha <- c(0.90, 0.99)\n",
    "x_bar <- mean(minutes)\n",
    "\n",
    "z_alpha <- c()\n",
    "E <- c()\n",
    "for (item in alpha) {\n",
    "    z_alpha <- c(z_alpha, qnorm(item))\n",
    "}\n",
    "for (item in z_alpha){\n",
    "    E <- c(E, item*sig/sqrt(n))\n",
    "}\n",
    "\n",
    "cat(\"Margem de erro: \", E[1],\",\", E[2])\n"
   ]
  },
  {
   "cell_type": "code",
   "execution_count": 6,
   "metadata": {
    "vscode": {
     "languageId": "r"
    }
   },
   "outputs": [
    {
     "name": "stdout",
     "output_type": "stream",
     "text": [
      "Intervalo de confiança para  0.9 \n",
      "22.86778 < mi <  25.33222 \n",
      "Intervalo de confiança para  0.99 \n",
      "21.8632 < mi <  26.3368 \n"
     ]
    }
   ],
   "source": [
    "for (item in E){\n",
    "    cat(\"Intervalo de confiança para \",alpha[match(item, E)],\"\\n\")\n",
    "    cat(x_bar - item, \"< mi < \", x_bar + item, \"\\n\")\n",
    "}"
   ]
  },
  {
   "cell_type": "markdown",
   "metadata": {},
   "source": [
    "46."
   ]
  },
  {
   "cell_type": "code",
   "execution_count": 8,
   "metadata": {
    "vscode": {
     "languageId": "r"
    }
   },
   "outputs": [
    {
     "name": "stdout",
     "output_type": "stream",
     "text": [
      "Margem de erro:  0.5621855 , 1.020512"
     ]
    }
   ],
   "source": [
    "prices <- c(18.41, 16.91, 16.83, 17.72, 15.54, 15.56, 18.01, 19.11, 19.79, 18.32, 18.65, 20.71, 20.66, 21.04, 21.74, 22.13, 21.96, 22.16, 22.86, 20.86, 20.74, \n",
    "            22.05, 21.42, 22.34, 22.83, 24.34, 14.47, 19.06, 18.42, 20.85, 21.43, 21.97, 21.81)\n",
    "\n",
    "sig <- 2.52\n",
    "x_bar <- mean(prices)\n",
    "n <- length(prices)\n",
    "alpha <- c(0.90, 0.99)\n",
    "\n",
    "z_alpha <- c()\n",
    "E <- c()\n",
    "for (item in alpha) {\n",
    "    z_alpha <- c(z_alpha, qnorm(item))\n",
    "}\n",
    "for (item in z_alpha){\n",
    "    E <- c(E, item*sig/sqrt(n))\n",
    "}\n",
    "\n",
    "cat(\"Margem de erro: \", E[1],\",\", E[2])\n"
   ]
  },
  {
   "cell_type": "code",
   "execution_count": 10,
   "metadata": {
    "vscode": {
     "languageId": "r"
    }
   },
   "outputs": [
    {
     "name": "stdout",
     "output_type": "stream",
     "text": [
      "Intervalo de confiança para  0.9 \n",
      "19.45903 < mi <  20.5834 \n",
      "Intervalo de confiança para  0.99 \n",
      "19.0007 < mi <  21.04172 \n"
     ]
    }
   ],
   "source": [
    "for (item in E){\n",
    "    cat(\"Intervalo de confiança para \",alpha[match(item, E)],\"\\n\")\n",
    "    cat(x_bar - item, \"< mi < \", x_bar + item, \"\\n\")\n",
    "}"
   ]
  },
  {
   "cell_type": "markdown",
   "metadata": {},
   "source": [
    "Exercicio 4)"
   ]
  },
  {
   "cell_type": "markdown",
   "metadata": {},
   "source": [
    "27. H_0 <-> mi != 40 -> H_alpha <-> mi = 40"
   ]
  },
  {
   "cell_type": "code",
   "execution_count": 29,
   "metadata": {
    "vscode": {
     "languageId": "r"
    }
   },
   "outputs": [
    {
     "name": "stdout",
     "output_type": "stream",
     "text": [
      "Z_score:  -2.030457"
     ]
    }
   ],
   "source": [
    "x_bar <- 39.2\n",
    "n <- 25\n",
    "\n",
    "sig_aff <- 1.97\n",
    "alpha_aff <- 0.05\n",
    "mi_aff <- 40\n",
    "\n",
    "zc <- (x_bar  - mi_aff )/(sig_aff/sqrt(n))\n",
    "\n",
    "cat(\"Z_score: \", zc)"
   ]
  },
  {
   "cell_type": "code",
   "execution_count": 30,
   "metadata": {
    "vscode": {
     "languageId": "r"
    }
   },
   "outputs": [
    {
     "name": "stdout",
     "output_type": "stream",
     "text": [
      "P Value:  0.04231012"
     ]
    }
   ],
   "source": [
    "pvalue <- 2*pnorm(zc)\n",
    "cat(\"P Value: \", pvalue)"
   ]
  },
  {
   "cell_type": "markdown",
   "metadata": {},
   "source": [
    "A afirmação vale, pois P value < alpha\n"
   ]
  },
  {
   "cell_type": "markdown",
   "metadata": {},
   "source": [
    "28. H_0 <-> mi <= 1745 -> H_alpha <-> mi > 1.745"
   ]
  },
  {
   "cell_type": "code",
   "execution_count": 33,
   "metadata": {
    "vscode": {
     "languageId": "r"
    }
   },
   "outputs": [
    {
     "name": "stdout",
     "output_type": "stream",
     "text": [
      "Z_score:  1.157516"
     ]
    }
   ],
   "source": [
    "x_bar <- 1752\n",
    "n <- 28\n",
    "\n",
    "sig_aff <- 32\n",
    "alpha_aff <- 0.10\n",
    "mi_aff <- 1745\n",
    "\n",
    "zc <- (x_bar  - mi_aff )/(sig_aff/sqrt(n))\n",
    "cat(\"Z_score: \", zc)"
   ]
  },
  {
   "cell_type": "code",
   "execution_count": 36,
   "metadata": {
    "vscode": {
     "languageId": "r"
    }
   },
   "outputs": [
    {
     "name": "stdout",
     "output_type": "stream",
     "text": [
      "P Value:  0.01070617"
     ]
    }
   ],
   "source": [
    "pvalue <- 2*pnorm(zc)\n",
    "cat(\"P Value: \", pvalue)"
   ]
  },
  {
   "cell_type": "markdown",
   "metadata": {},
   "source": [
    "A afirmação não vale, pois P value >= alpha"
   ]
  },
  {
   "cell_type": "markdown",
   "metadata": {},
   "source": [
    "29. H_0 <-> mi = 8550 -> H_alpha <-> mi != 8550"
   ]
  },
  {
   "cell_type": "code",
   "execution_count": 37,
   "metadata": {
    "vscode": {
     "languageId": "r"
    }
   },
   "outputs": [
    {
     "name": "stdout",
     "output_type": "stream",
     "text": [
      "Z_score:  -2.552146"
     ]
    }
   ],
   "source": [
    "x_bar <- 8420\n",
    "n <- 38\n",
    "\n",
    "sig_aff <- 314\n",
    "alpha_aff <- 0.02\n",
    "mi_aff <- 8550\n",
    "\n",
    "zc <- (x_bar  - mi_aff )/(sig_aff/sqrt(n))\n",
    "cat(\"Z_score: \", zc)"
   ]
  },
  {
   "cell_type": "code",
   "execution_count": 38,
   "metadata": {
    "vscode": {
     "languageId": "r"
    }
   },
   "outputs": [
    {
     "name": "stdout",
     "output_type": "stream",
     "text": [
      "P Value:  0.01070617"
     ]
    }
   ],
   "source": [
    "pvalue <- 2*pnorm(zc)\n",
    "cat(\"P Value: \", pvalue)"
   ]
  },
  {
   "cell_type": "markdown",
   "metadata": {},
   "source": [
    "A afirmação vale, pois P value < alpha"
   ]
  },
  {
   "cell_type": "markdown",
   "metadata": {},
   "source": [
    "30. H_0 <-> mi <= 22500 -> H_alpha <-> mi > 22500"
   ]
  },
  {
   "cell_type": "code",
   "execution_count": 41,
   "metadata": {
    "vscode": {
     "languageId": "r"
    }
   },
   "outputs": [
    {
     "name": "stdout",
     "output_type": "stream",
     "text": [
      "Z_score:  5.59017"
     ]
    }
   ],
   "source": [
    "x_bar <- 23500\n",
    "n <- 45\n",
    "\n",
    "sig_aff <- 1200\n",
    "alpha_aff <- 0.01\n",
    "mi_aff <- 22500\n",
    "\n",
    "zc <- (x_bar  - mi_aff )/(sig_aff/sqrt(n))\n",
    "cat(\"Z_score: \", zc)"
   ]
  },
  {
   "cell_type": "code",
   "execution_count": 42,
   "metadata": {
    "vscode": {
     "languageId": "r"
    }
   },
   "outputs": [
    {
     "name": "stdout",
     "output_type": "stream",
     "text": [
      "P Value:  2"
     ]
    }
   ],
   "source": [
    "pvalue <- 2*pnorm(zc)\n",
    "cat(\"P Value: \", pvalue)"
   ]
  },
  {
   "cell_type": "markdown",
   "metadata": {},
   "source": [
    "A afirmação não vale, pois P value > alpha."
   ]
  },
  {
   "cell_type": "markdown",
   "metadata": {},
   "source": [
    "Exercicio 5)"
   ]
  }
 ],
 "metadata": {
  "kernelspec": {
   "display_name": "R",
   "language": "R",
   "name": "ir"
  },
  "language_info": {
   "codemirror_mode": "r",
   "file_extension": ".r",
   "mimetype": "text/x-r-source",
   "name": "R",
   "pygments_lexer": "r",
   "version": "4.2.2"
  },
  "orig_nbformat": 4
 },
 "nbformat": 4,
 "nbformat_minor": 2
}
