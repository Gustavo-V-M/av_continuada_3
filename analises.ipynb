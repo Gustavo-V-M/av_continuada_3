{
 "cells": [
  {
   "cell_type": "code",
   "execution_count": 3,
   "metadata": {
    "vscode": {
     "languageId": "r"
    }
   },
   "outputs": [
    {
     "data": {
      "text/html": [
       "<table class=\"dataframe\">\n",
       "<caption>A data.frame: 5 × 110</caption>\n",
       "<thead>\n",
       "\t<tr><th></th><th scope=col>sofifa_id</th><th scope=col>player_url</th><th scope=col>short_name</th><th scope=col>long_name</th><th scope=col>player_positions</th><th scope=col>overall</th><th scope=col>potential</th><th scope=col>value_eur</th><th scope=col>wage_eur</th><th scope=col>age</th><th scope=col>⋯</th><th scope=col>lcb</th><th scope=col>cb</th><th scope=col>rcb</th><th scope=col>rb</th><th scope=col>gk</th><th scope=col>player_face_url</th><th scope=col>club_logo_url</th><th scope=col>club_flag_url</th><th scope=col>nation_logo_url</th><th scope=col>nation_flag_url</th></tr>\n",
       "\t<tr><th></th><th scope=col>&lt;int&gt;</th><th scope=col>&lt;chr&gt;</th><th scope=col>&lt;chr&gt;</th><th scope=col>&lt;chr&gt;</th><th scope=col>&lt;chr&gt;</th><th scope=col>&lt;int&gt;</th><th scope=col>&lt;int&gt;</th><th scope=col>&lt;dbl&gt;</th><th scope=col>&lt;dbl&gt;</th><th scope=col>&lt;int&gt;</th><th scope=col>⋯</th><th scope=col>&lt;chr&gt;</th><th scope=col>&lt;chr&gt;</th><th scope=col>&lt;chr&gt;</th><th scope=col>&lt;chr&gt;</th><th scope=col>&lt;chr&gt;</th><th scope=col>&lt;chr&gt;</th><th scope=col>&lt;chr&gt;</th><th scope=col>&lt;chr&gt;</th><th scope=col>&lt;chr&gt;</th><th scope=col>&lt;chr&gt;</th></tr>\n",
       "</thead>\n",
       "<tbody>\n",
       "\t<tr><th scope=row>1</th><td>158023</td><td>https://sofifa.com/player/158023/lionel-messi/220002              </td><td>L. Messi         </td><td>Lionel Andrés Messi Cuccittini     </td><td>RW, ST, CF</td><td>93</td><td>93</td><td> 78000000</td><td>320000</td><td>34</td><td>⋯</td><td>50+3</td><td>50+3</td><td>50+3</td><td>61+3</td><td>19+3</td><td>https://cdn.sofifa.net/players/158/023/22_120.png</td><td>https://cdn.sofifa.net/teams/73/60.png</td><td>https://cdn.sofifa.net/flags/fr.png    </td><td>https://cdn.sofifa.net/teams/1369/60.png</td><td>https://cdn.sofifa.net/flags/ar.png</td></tr>\n",
       "\t<tr><th scope=row>2</th><td>188545</td><td>https://sofifa.com/player/188545/robert-lewandowski/220002        </td><td>R. Lewandowski   </td><td>Robert Lewandowski                 </td><td>ST        </td><td>92</td><td>92</td><td>119500000</td><td>270000</td><td>32</td><td>⋯</td><td>60+3</td><td>60+3</td><td>60+3</td><td>61+3</td><td>19+3</td><td>https://cdn.sofifa.net/players/188/545/22_120.png</td><td>https://cdn.sofifa.net/teams/21/60.png</td><td>https://cdn.sofifa.net/flags/de.png    </td><td>https://cdn.sofifa.net/teams/1353/60.png</td><td>https://cdn.sofifa.net/flags/pl.png</td></tr>\n",
       "\t<tr><th scope=row>3</th><td> 20801</td><td>https://sofifa.com/player/20801/c-ronaldo-dos-santos-aveiro/220002</td><td>Cristiano Ronaldo</td><td>Cristiano Ronaldo dos Santos Aveiro</td><td>ST, LW    </td><td>91</td><td>91</td><td> 45000000</td><td>270000</td><td>36</td><td>⋯</td><td>53+3</td><td>53+3</td><td>53+3</td><td>60+3</td><td>20+3</td><td>https://cdn.sofifa.net/players/020/801/22_120.png</td><td>https://cdn.sofifa.net/teams/11/60.png</td><td>https://cdn.sofifa.net/flags/gb-eng.png</td><td>https://cdn.sofifa.net/teams/1354/60.png</td><td>https://cdn.sofifa.net/flags/pt.png</td></tr>\n",
       "\t<tr><th scope=row>4</th><td>190871</td><td>https://sofifa.com/player/190871/neymar-da-silva-santos-jr/220002 </td><td>Neymar Jr        </td><td>Neymar da Silva Santos Júnior      </td><td>LW, CAM   </td><td>91</td><td>91</td><td>129000000</td><td>270000</td><td>29</td><td>⋯</td><td>50+3</td><td>50+3</td><td>50+3</td><td>62+3</td><td>20+3</td><td>https://cdn.sofifa.net/players/190/871/22_120.png</td><td>https://cdn.sofifa.net/teams/73/60.png</td><td>https://cdn.sofifa.net/flags/fr.png    </td><td>                                        </td><td>https://cdn.sofifa.net/flags/br.png</td></tr>\n",
       "\t<tr><th scope=row>5</th><td>192985</td><td>https://sofifa.com/player/192985/kevin-de-bruyne/220002           </td><td>K. De Bruyne     </td><td>Kevin De Bruyne                    </td><td>CM, CAM   </td><td>91</td><td>91</td><td>125500000</td><td>350000</td><td>30</td><td>⋯</td><td>69+3</td><td>69+3</td><td>69+3</td><td>75+3</td><td>21+3</td><td>https://cdn.sofifa.net/players/192/985/22_120.png</td><td>https://cdn.sofifa.net/teams/10/60.png</td><td>https://cdn.sofifa.net/flags/gb-eng.png</td><td>https://cdn.sofifa.net/teams/1325/60.png</td><td>https://cdn.sofifa.net/flags/be.png</td></tr>\n",
       "</tbody>\n",
       "</table>\n"
      ],
      "text/latex": [
       "A data.frame: 5 × 110\n",
       "\\begin{tabular}{r|lllllllllllllllllllll}\n",
       "  & sofifa\\_id & player\\_url & short\\_name & long\\_name & player\\_positions & overall & potential & value\\_eur & wage\\_eur & age & ⋯ & lcb & cb & rcb & rb & gk & player\\_face\\_url & club\\_logo\\_url & club\\_flag\\_url & nation\\_logo\\_url & nation\\_flag\\_url\\\\\n",
       "  & <int> & <chr> & <chr> & <chr> & <chr> & <int> & <int> & <dbl> & <dbl> & <int> & ⋯ & <chr> & <chr> & <chr> & <chr> & <chr> & <chr> & <chr> & <chr> & <chr> & <chr>\\\\\n",
       "\\hline\n",
       "\t1 & 158023 & https://sofifa.com/player/158023/lionel-messi/220002               & L. Messi          & Lionel Andrés Messi Cuccittini      & RW, ST, CF & 93 & 93 &  78000000 & 320000 & 34 & ⋯ & 50+3 & 50+3 & 50+3 & 61+3 & 19+3 & https://cdn.sofifa.net/players/158/023/22\\_120.png & https://cdn.sofifa.net/teams/73/60.png & https://cdn.sofifa.net/flags/fr.png     & https://cdn.sofifa.net/teams/1369/60.png & https://cdn.sofifa.net/flags/ar.png\\\\\n",
       "\t2 & 188545 & https://sofifa.com/player/188545/robert-lewandowski/220002         & R. Lewandowski    & Robert Lewandowski                  & ST         & 92 & 92 & 119500000 & 270000 & 32 & ⋯ & 60+3 & 60+3 & 60+3 & 61+3 & 19+3 & https://cdn.sofifa.net/players/188/545/22\\_120.png & https://cdn.sofifa.net/teams/21/60.png & https://cdn.sofifa.net/flags/de.png     & https://cdn.sofifa.net/teams/1353/60.png & https://cdn.sofifa.net/flags/pl.png\\\\\n",
       "\t3 &  20801 & https://sofifa.com/player/20801/c-ronaldo-dos-santos-aveiro/220002 & Cristiano Ronaldo & Cristiano Ronaldo dos Santos Aveiro & ST, LW     & 91 & 91 &  45000000 & 270000 & 36 & ⋯ & 53+3 & 53+3 & 53+3 & 60+3 & 20+3 & https://cdn.sofifa.net/players/020/801/22\\_120.png & https://cdn.sofifa.net/teams/11/60.png & https://cdn.sofifa.net/flags/gb-eng.png & https://cdn.sofifa.net/teams/1354/60.png & https://cdn.sofifa.net/flags/pt.png\\\\\n",
       "\t4 & 190871 & https://sofifa.com/player/190871/neymar-da-silva-santos-jr/220002  & Neymar Jr         & Neymar da Silva Santos Júnior       & LW, CAM    & 91 & 91 & 129000000 & 270000 & 29 & ⋯ & 50+3 & 50+3 & 50+3 & 62+3 & 20+3 & https://cdn.sofifa.net/players/190/871/22\\_120.png & https://cdn.sofifa.net/teams/73/60.png & https://cdn.sofifa.net/flags/fr.png     &                                          & https://cdn.sofifa.net/flags/br.png\\\\\n",
       "\t5 & 192985 & https://sofifa.com/player/192985/kevin-de-bruyne/220002            & K. De Bruyne      & Kevin De Bruyne                     & CM, CAM    & 91 & 91 & 125500000 & 350000 & 30 & ⋯ & 69+3 & 69+3 & 69+3 & 75+3 & 21+3 & https://cdn.sofifa.net/players/192/985/22\\_120.png & https://cdn.sofifa.net/teams/10/60.png & https://cdn.sofifa.net/flags/gb-eng.png & https://cdn.sofifa.net/teams/1325/60.png & https://cdn.sofifa.net/flags/be.png\\\\\n",
       "\\end{tabular}\n"
      ],
      "text/markdown": [
       "\n",
       "A data.frame: 5 × 110\n",
       "\n",
       "| <!--/--> | sofifa_id &lt;int&gt; | player_url &lt;chr&gt; | short_name &lt;chr&gt; | long_name &lt;chr&gt; | player_positions &lt;chr&gt; | overall &lt;int&gt; | potential &lt;int&gt; | value_eur &lt;dbl&gt; | wage_eur &lt;dbl&gt; | age &lt;int&gt; | ⋯ ⋯ | lcb &lt;chr&gt; | cb &lt;chr&gt; | rcb &lt;chr&gt; | rb &lt;chr&gt; | gk &lt;chr&gt; | player_face_url &lt;chr&gt; | club_logo_url &lt;chr&gt; | club_flag_url &lt;chr&gt; | nation_logo_url &lt;chr&gt; | nation_flag_url &lt;chr&gt; |\n",
       "|---|---|---|---|---|---|---|---|---|---|---|---|---|---|---|---|---|---|---|---|---|---|\n",
       "| 1 | 158023 | https://sofifa.com/player/158023/lionel-messi/220002               | L. Messi          | Lionel Andrés Messi Cuccittini      | RW, ST, CF | 93 | 93 |  78000000 | 320000 | 34 | ⋯ | 50+3 | 50+3 | 50+3 | 61+3 | 19+3 | https://cdn.sofifa.net/players/158/023/22_120.png | https://cdn.sofifa.net/teams/73/60.png | https://cdn.sofifa.net/flags/fr.png     | https://cdn.sofifa.net/teams/1369/60.png | https://cdn.sofifa.net/flags/ar.png |\n",
       "| 2 | 188545 | https://sofifa.com/player/188545/robert-lewandowski/220002         | R. Lewandowski    | Robert Lewandowski                  | ST         | 92 | 92 | 119500000 | 270000 | 32 | ⋯ | 60+3 | 60+3 | 60+3 | 61+3 | 19+3 | https://cdn.sofifa.net/players/188/545/22_120.png | https://cdn.sofifa.net/teams/21/60.png | https://cdn.sofifa.net/flags/de.png     | https://cdn.sofifa.net/teams/1353/60.png | https://cdn.sofifa.net/flags/pl.png |\n",
       "| 3 |  20801 | https://sofifa.com/player/20801/c-ronaldo-dos-santos-aveiro/220002 | Cristiano Ronaldo | Cristiano Ronaldo dos Santos Aveiro | ST, LW     | 91 | 91 |  45000000 | 270000 | 36 | ⋯ | 53+3 | 53+3 | 53+3 | 60+3 | 20+3 | https://cdn.sofifa.net/players/020/801/22_120.png | https://cdn.sofifa.net/teams/11/60.png | https://cdn.sofifa.net/flags/gb-eng.png | https://cdn.sofifa.net/teams/1354/60.png | https://cdn.sofifa.net/flags/pt.png |\n",
       "| 4 | 190871 | https://sofifa.com/player/190871/neymar-da-silva-santos-jr/220002  | Neymar Jr         | Neymar da Silva Santos Júnior       | LW, CAM    | 91 | 91 | 129000000 | 270000 | 29 | ⋯ | 50+3 | 50+3 | 50+3 | 62+3 | 20+3 | https://cdn.sofifa.net/players/190/871/22_120.png | https://cdn.sofifa.net/teams/73/60.png | https://cdn.sofifa.net/flags/fr.png     | <!----> | https://cdn.sofifa.net/flags/br.png |\n",
       "| 5 | 192985 | https://sofifa.com/player/192985/kevin-de-bruyne/220002            | K. De Bruyne      | Kevin De Bruyne                     | CM, CAM    | 91 | 91 | 125500000 | 350000 | 30 | ⋯ | 69+3 | 69+3 | 69+3 | 75+3 | 21+3 | https://cdn.sofifa.net/players/192/985/22_120.png | https://cdn.sofifa.net/teams/10/60.png | https://cdn.sofifa.net/flags/gb-eng.png | https://cdn.sofifa.net/teams/1325/60.png | https://cdn.sofifa.net/flags/be.png |\n",
       "\n"
      ],
      "text/plain": [
       "  sofifa_id player_url                                                        \n",
       "1 158023    https://sofifa.com/player/158023/lionel-messi/220002              \n",
       "2 188545    https://sofifa.com/player/188545/robert-lewandowski/220002        \n",
       "3  20801    https://sofifa.com/player/20801/c-ronaldo-dos-santos-aveiro/220002\n",
       "4 190871    https://sofifa.com/player/190871/neymar-da-silva-santos-jr/220002 \n",
       "5 192985    https://sofifa.com/player/192985/kevin-de-bruyne/220002           \n",
       "  short_name        long_name                           player_positions\n",
       "1 L. Messi          Lionel Andrés Messi Cuccittini      RW, ST, CF      \n",
       "2 R. Lewandowski    Robert Lewandowski                  ST              \n",
       "3 Cristiano Ronaldo Cristiano Ronaldo dos Santos Aveiro ST, LW          \n",
       "4 Neymar Jr         Neymar da Silva Santos Júnior       LW, CAM         \n",
       "5 K. De Bruyne      Kevin De Bruyne                     CM, CAM         \n",
       "  overall potential value_eur wage_eur age ⋯ lcb  cb   rcb  rb   gk  \n",
       "1 93      93         78000000 320000   34  ⋯ 50+3 50+3 50+3 61+3 19+3\n",
       "2 92      92        119500000 270000   32  ⋯ 60+3 60+3 60+3 61+3 19+3\n",
       "3 91      91         45000000 270000   36  ⋯ 53+3 53+3 53+3 60+3 20+3\n",
       "4 91      91        129000000 270000   29  ⋯ 50+3 50+3 50+3 62+3 20+3\n",
       "5 91      91        125500000 350000   30  ⋯ 69+3 69+3 69+3 75+3 21+3\n",
       "  player_face_url                                  \n",
       "1 https://cdn.sofifa.net/players/158/023/22_120.png\n",
       "2 https://cdn.sofifa.net/players/188/545/22_120.png\n",
       "3 https://cdn.sofifa.net/players/020/801/22_120.png\n",
       "4 https://cdn.sofifa.net/players/190/871/22_120.png\n",
       "5 https://cdn.sofifa.net/players/192/985/22_120.png\n",
       "  club_logo_url                         \n",
       "1 https://cdn.sofifa.net/teams/73/60.png\n",
       "2 https://cdn.sofifa.net/teams/21/60.png\n",
       "3 https://cdn.sofifa.net/teams/11/60.png\n",
       "4 https://cdn.sofifa.net/teams/73/60.png\n",
       "5 https://cdn.sofifa.net/teams/10/60.png\n",
       "  club_flag_url                          \n",
       "1 https://cdn.sofifa.net/flags/fr.png    \n",
       "2 https://cdn.sofifa.net/flags/de.png    \n",
       "3 https://cdn.sofifa.net/flags/gb-eng.png\n",
       "4 https://cdn.sofifa.net/flags/fr.png    \n",
       "5 https://cdn.sofifa.net/flags/gb-eng.png\n",
       "  nation_logo_url                          nation_flag_url                    \n",
       "1 https://cdn.sofifa.net/teams/1369/60.png https://cdn.sofifa.net/flags/ar.png\n",
       "2 https://cdn.sofifa.net/teams/1353/60.png https://cdn.sofifa.net/flags/pl.png\n",
       "3 https://cdn.sofifa.net/teams/1354/60.png https://cdn.sofifa.net/flags/pt.png\n",
       "4                                          https://cdn.sofifa.net/flags/br.png\n",
       "5 https://cdn.sofifa.net/teams/1325/60.png https://cdn.sofifa.net/flags/be.png"
      ]
     },
     "metadata": {},
     "output_type": "display_data"
    }
   ],
   "source": [
    "library(\"ggplot2\")\n",
    "\n",
    "players_data <- read.csv(\"players_22.csv\")\n",
    "head(players_data, 5)"
   ]
  },
  {
   "cell_type": "markdown",
   "metadata": {},
   "source": [
    "A analise será feita com a coluna de idade dos jogadores"
   ]
  },
  {
   "cell_type": "code",
   "execution_count": 9,
   "metadata": {
    "vscode": {
     "languageId": "r"
    }
   },
   "outputs": [
    {
     "data": {
      "text/html": [
       "<table class=\"dataframe\">\n",
       "<caption>A data.frame: 5 × 2</caption>\n",
       "<thead>\n",
       "\t<tr><th></th><th scope=col>x</th><th scope=col>y</th></tr>\n",
       "\t<tr><th></th><th scope=col>&lt;dbl&gt;</th><th scope=col>&lt;int&gt;</th></tr>\n",
       "</thead>\n",
       "<tbody>\n",
       "\t<tr><th scope=row>1</th><td>0</td><td>34</td></tr>\n",
       "\t<tr><th scope=row>2</th><td>1</td><td>32</td></tr>\n",
       "\t<tr><th scope=row>3</th><td>2</td><td>36</td></tr>\n",
       "\t<tr><th scope=row>4</th><td>3</td><td>29</td></tr>\n",
       "\t<tr><th scope=row>5</th><td>4</td><td>30</td></tr>\n",
       "</tbody>\n",
       "</table>\n"
      ],
      "text/latex": [
       "A data.frame: 5 × 2\n",
       "\\begin{tabular}{r|ll}\n",
       "  & x & y\\\\\n",
       "  & <dbl> & <int>\\\\\n",
       "\\hline\n",
       "\t1 & 0 & 34\\\\\n",
       "\t2 & 1 & 32\\\\\n",
       "\t3 & 2 & 36\\\\\n",
       "\t4 & 3 & 29\\\\\n",
       "\t5 & 4 & 30\\\\\n",
       "\\end{tabular}\n"
      ],
      "text/markdown": [
       "\n",
       "A data.frame: 5 × 2\n",
       "\n",
       "| <!--/--> | x &lt;dbl&gt; | y &lt;int&gt; |\n",
       "|---|---|---|\n",
       "| 1 | 0 | 34 |\n",
       "| 2 | 1 | 32 |\n",
       "| 3 | 2 | 36 |\n",
       "| 4 | 3 | 29 |\n",
       "| 5 | 4 | 30 |\n",
       "\n"
      ],
      "text/plain": [
       "  x y \n",
       "1 0 34\n",
       "2 1 32\n",
       "3 2 36\n",
       "4 3 29\n",
       "5 4 30"
      ]
     },
     "metadata": {},
     "output_type": "display_data"
    }
   ],
   "source": [
    "\n",
    "y_players <- players_data[, 10]\n",
    "x_players <- seq(from = 0, to = length(y_players) - 1, by = 1)\n",
    "\n",
    "data <- data.frame(x= x_players, y= y_players)"
   ]
  },
  {
   "cell_type": "markdown",
   "metadata": {},
   "source": []
  }
 ],
 "metadata": {
  "kernelspec": {
   "display_name": "R",
   "language": "R",
   "name": "ir"
  },
  "language_info": {
   "codemirror_mode": "r",
   "file_extension": ".r",
   "mimetype": "text/x-r-source",
   "name": "R",
   "pygments_lexer": "r",
   "version": "4.2.2"
  },
  "orig_nbformat": 4
 },
 "nbformat": 4,
 "nbformat_minor": 2
}
